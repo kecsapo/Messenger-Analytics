{
 "cells": [
  {
   "cell_type": "code",
   "execution_count": null,
   "metadata": {},
   "outputs": [],
   "source": [
    "import matplotlib.pyplot as plt\n",
    "import numpy as np\n",
    "import json\n",
    "import datetime\n",
    "import unicodedata\n",
    "from pylab import rcParams\n",
    "import os\n",
    "import emoji"
   ]
  },
  {
   "cell_type": "code",
   "execution_count": null,
   "metadata": {},
   "outputs": [],
   "source": [
    "rcParams['figure.figsize'] = 16,10\n",
    "rcParams['font.size'] = 20"
   ]
  },
  {
   "cell_type": "code",
   "execution_count": null,
   "metadata": {},
   "outputs": [],
   "source": [
    "class Reaction:\n",
    "    def __init__ (self, reaction_dict):\n",
    "        self.actor=reaction_dict[\"actor\"]\n",
    "        self.reaction=reaction_dict[\"reaction\"]"
   ]
  },
  {
   "cell_type": "code",
   "execution_count": null,
   "metadata": {},
   "outputs": [],
   "source": [
    "class Message:\n",
    "    def __init__ (self, message_dict):\n",
    "        if \"content\" in message_dict.keys():\n",
    "            self.text=message_dict[\"content\"]       #text of message\n",
    "        elif \"photos\" in message_dict.keys():\n",
    "            self.text=\"photo\"\n",
    "        elif \"audio_files\" in message_dict.keys():\n",
    "            self.text=\"audio\"\n",
    "        else:\n",
    "            self.text=\"\"\n",
    "        self.senderName=message_dict[\"sender_name\"]      #sender's name\n",
    "        self.time=datetime.datetime.fromtimestamp(message_dict[\"timestamp_ms\"]//1000)      #time when message was sent\n",
    "        self.reactions=[]\n",
    "        if \"reactions\" in message_dict.keys():\n",
    "            for reaction in message_dict[\"reactions\"]:\n",
    "                self.reactions.append(Reaction(reaction))"
   ]
  },
  {
   "cell_type": "code",
   "execution_count": null,
   "metadata": {},
   "outputs": [],
   "source": [
    "class Thread:\n",
    "    def __init__ (self, allData):\n",
    "        self.participants=[]\n",
    "        self.messages=[]\n",
    "        self.title=allData[\"title\"]\n",
    "        for participant in allData[\"participants\"]:\n",
    "            self.participants.append(participant[\"name\"])\n",
    "        for message in allData[\"messages\"]:\n",
    "            self.messages.append(Message(message))\n",
    "        self.messageCount=len(self.messages)\n",
    "        self.messages=sorted(self.messages,key=lambda message: message.time)\n",
    "    \n",
    "    def messagesUntil (self, date):\n",
    "        count=0\n",
    "        for message in self.messages:\n",
    "            if message.time<date:\n",
    "                count+=1\n",
    "        return count"
   ]
  },
  {
   "cell_type": "code",
   "execution_count": null,
   "metadata": {},
   "outputs": [],
   "source": [
    "threads=[]\n",
    "base = os.path.join(os.getcwd(), \"messages\", \"inbox\")\n",
    "dirs = next(os.walk(base))[1]\n",
    "for s in dirs:\n",
    "    dir=os.path.join(base, s)\n",
    "    try:\n",
    "        f = open(os.path.join(dir, \"message_\" + str(1) + \".json\"), 'r', encoding='utf8')\n",
    "        s = f.read().encode().decode('raw_unicode_escape').encode('latin1').decode('utf8')\n",
    "        js = json.loads(s, strict=False)\n",
    "        i = 2\n",
    "        while True:\n",
    "            try:\n",
    "                f = open(os.path.join(dir, \"message_\" + str(i) + \".json\"), 'r', encoding='utf8')\n",
    "            except:\n",
    "                break\n",
    "            i += 1\n",
    "            s = f.read().encode().decode('raw_unicode_escape').encode('latin1').decode('utf8')\n",
    "            n = json.loads(s, strict=False)\n",
    "            js[\"messages\"].extend(n[\"messages\"])\n",
    "        threads.append(Thread(js))\n",
    "    except:\n",
    "        continue\n",
    "threads=sorted(threads, key=lambda thread: thread.messageCount, reverse=True)\n",
    "del(s,n,js,f,i)"
   ]
  },
  {
   "cell_type": "code",
   "execution_count": null,
   "metadata": {},
   "outputs": [],
   "source": [
    "def printFirsts (n):\n",
    "    numbers=[]\n",
    "    for thread in threads:\n",
    "        if thread.messageCount<20:\n",
    "            break\n",
    "        numbers.append(thread.messageCount)\n",
    "\n",
    "    for index in range(n):\n",
    "        print(\"%d. %s: %d messages\" % (index+1, threads[index].title, numbers[index]))\n",
    "    \n",
    "    fig, ax = plt.subplots()\n",
    "\n",
    "    plt.yscale(\"log\")\n",
    "    plt.grid(True)\n",
    "    ax.plot(range(1,len(numbers)+1), numbers, \"r\")\n",
    "    plt.xlabel(\"Index of thread\")\n",
    "    plt.ylabel(\"Number of messages\")\n",
    "    plt.title(\"Number of messages in each thread\")\n",
    "    plt.show()\n",
    "\n",
    "    fig, ax = plt.subplots()\n",
    "\n",
    "    numbers2=[threads[0].messageCount]\n",
    "    for thread in threads[1:]:\n",
    "        numbers2.append(numbers2[-1]+thread.messageCount)\n",
    "\n",
    "    \n",
    "    \n",
    "    plt.yscale(\"linear\")\n",
    "    plt.grid(True)\n",
    "    ax.plot(range(1,len(numbers2[:50])+1), np.array(numbers2[:50])/numbers2[-1], \".-r\")\n",
    "    plt.xlabel(\"Index of thread\")\n",
    "    plt.ylabel(\"Portion of messages up to that index\")\n",
    "    plt.title(\"Portion of total messages represented up to each index\")\n",
    "    plt.show()\n",
    "    "
   ]
  },
  {
   "cell_type": "code",
   "execution_count": null,
   "metadata": {},
   "outputs": [],
   "source": [
    "def findExtremeDates(threadList, startDate=datetime.datetime(1,1,1,0,0,0)):\n",
    "    firstDate=threadList[0].messages[0].time\n",
    "    lastDate=threadList[0].messages[-1].time\n",
    "    for thread in threadList[1:]:\n",
    "        if thread.messages[0].time<firstDate:\n",
    "            firstDate=thread.messages[0].time\n",
    "        if thread.messages[-1].time>lastDate:\n",
    "            lastDate=thread.messages[-1].time\n",
    "    return max(firstDate,startDate),lastDate"
   ]
  },
  {
   "cell_type": "code",
   "execution_count": null,
   "metadata": {},
   "outputs": [],
   "source": [
    "def messagesTime (threadList, startDate=datetime.datetime(1,1,1,0,0,0)):\n",
    "    N = 1000\n",
    "    firstDate, lastDate = findExtremeDates(threadList, startDate=startDate)\n",
    "    totalDelta = lastDate - firstDate\n",
    "    fig, ax = plt.subplots()\n",
    "\n",
    "    for thread in threadList:\n",
    "        buckets = np.zeros(N)\n",
    "        for message in thread.messages:\n",
    "            if message.time<firstDate:\n",
    "                continue\n",
    "            buckets[int((message.time - firstDate) / totalDelta * (N - 1))] += 1\n",
    "        buckets = np.cumsum(buckets)\n",
    "        ax.plot(buckets, label=thread.title)\n",
    "\n",
    "    ax.legend()\n",
    "    if(lastDate.year-firstDate.year>4):\n",
    "        delta=365\n",
    "    elif((lastDate-firstDate).days>30*30):\n",
    "        delta=182\n",
    "    elif((lastDate-firstDate).days>18*30):\n",
    "        delta=92\n",
    "    elif((lastDate-firstDate).days>10*30):\n",
    "        delta=61\n",
    "    else:\n",
    "        delta=30    \n",
    "    dateNames=[firstDate+datetime.timedelta(days=n*delta) for n in range(100) if firstDate+datetime.timedelta(days=(n-0.5)*delta)<lastDate]\n",
    "    ax.set_xticks([(date-firstDate)/(lastDate-firstDate)*1000 for date in dateNames],[str(date.year)+\"-\"+str(date.month).zfill(2) for date in dateNames])\n",
    "\n",
    "    plt.xticks(fontsize=15, rotation = 90)\n",
    "    plt.xlabel(\"Date\")\n",
    "    plt.ylabel(\"Number of messages\")\n",
    "    plt.title(\"Number of messages in time\")\n",
    "    plt.grid(True)"
   ]
  },
  {
   "cell_type": "code",
   "execution_count": null,
   "metadata": {},
   "outputs": [],
   "source": [
    "def firstAndLastElements(listIn, topN, bottomN):\n",
    "    if topN == None and bottomN==None:\n",
    "        return listIn\n",
    "    if topN == None:\n",
    "        return listIn[-bottomN:]\n",
    "    if bottomN == None:\n",
    "        return listIn[:topN]\n",
    "    if topN+bottomN>=len(listIn):\n",
    "        return listIn\n",
    "    return listIn[:topN]+ listIn[-bottomN:]"
   ]
  },
  {
   "cell_type": "code",
   "execution_count": null,
   "metadata": {},
   "outputs": [],
   "source": [
    "def senderStats (threadList, topN=None, bottomN=None):\n",
    "    statsPerSender = {}\n",
    "\n",
    "    for thread in threadList:\n",
    "        for message in thread.messages:\n",
    "                emojis = emoji.emoji_count(message.text)\n",
    "                words = len(message.text.split())\n",
    "                letters = len(message.text) - emojis - words + 1\n",
    "                if message.senderName in statsPerSender:\n",
    "                    statsPerSender[message.senderName]['letter_count'] += letters\n",
    "                    statsPerSender[message.senderName]['emoji_count'] += emojis\n",
    "                    statsPerSender[message.senderName]['word_count'] += words\n",
    "                    statsPerSender[message.senderName]['message_count'] += 1\n",
    "                    statsPerSender[message.senderName]['photo_count'] += int(message.text==\"photo\")\n",
    "                    statsPerSender[message.senderName]['audio_count'] += int(message.text==\"audio\")\n",
    "                else:\n",
    "                    statsPerSender[message.senderName] = {'letter_count': letters, 'emoji_count': emojis, 'word_count': words, 'message_count': 1, 'photo_count': int(message.text==\"photo\"), 'audio_count': int(message.text==\"audio\")}\n",
    "\n",
    "    for s in statsPerSender:\n",
    "        statsPerSender[s]['avg_word_len'] =    round(statsPerSender[s]['letter_count'] / max(statsPerSender[s]['word_count'],1) , 2)\n",
    "        statsPerSender[s]['avg_message_len'] = round(statsPerSender[s]['letter_count'] / max(statsPerSender[s]['message_count'],1), 2)\n",
    "\n",
    "\n",
    "    print(\"Number of messages\")\n",
    "    for s in firstAndLastElements(sorted(statsPerSender.keys(), key=lambda x: statsPerSender[x]['message_count'], reverse=True), topN, bottomN):\n",
    "        print(s, \": \", statsPerSender[s]['message_count'])\n",
    "\n",
    "    print(\"\\nNumber of photos\")\n",
    "    for s in firstAndLastElements(sorted(statsPerSender.keys(), key=lambda x: statsPerSender[x]['photo_count'], reverse=True), topN, bottomN):\n",
    "        print(s, \": \", statsPerSender[s]['photo_count'])\n",
    "\n",
    "    print(\"\\nNumber of audio files\")\n",
    "    for s in firstAndLastElements(sorted(statsPerSender.keys(), key=lambda x: statsPerSender[x]['audio_count'], reverse=True), topN, bottomN):\n",
    "        print(s, \": \", statsPerSender[s]['audio_count'])\n",
    "    \n",
    "    print(\"\\nNumber of characters\")\n",
    "    for s in firstAndLastElements(sorted(statsPerSender.keys(), key=lambda x: statsPerSender[x]['letter_count'], reverse=True), topN, bottomN):\n",
    "        print(s, \": \", statsPerSender[s]['letter_count'])\n",
    "\n",
    "    print(\"\\nEmojik száma\")\n",
    "    for s in firstAndLastElements(sorted(statsPerSender.keys(), key=lambda x: statsPerSender[x]['emoji_count'], reverse=True), topN, bottomN):\n",
    "        print(s, \": \", statsPerSender[s]['emoji_count'])\n",
    "\n",
    "    print(\"\\nNumber of words\")\n",
    "    for s in firstAndLastElements(sorted(statsPerSender.keys(), key=lambda x: statsPerSender[x]['word_count'], reverse=True), topN, bottomN):\n",
    "        print(s, \": \", statsPerSender[s]['word_count'])\n",
    "\n",
    "    print(\"\\nAverage length of words\")\n",
    "    for s in firstAndLastElements(sorted(statsPerSender.keys(), key=lambda x: statsPerSender[x]['avg_word_len'], reverse=True), topN, bottomN):\n",
    "        print(s, \": \", statsPerSender[s]['avg_word_len'], \" characters\")\n",
    "\n",
    "    print(\"\\nAverage length of messages in characters\")\n",
    "    for s in firstAndLastElements(sorted(statsPerSender.keys(), key=lambda x: statsPerSender[x]['avg_message_len'], reverse=True), topN, bottomN):\n",
    "        print(s, \": \", statsPerSender[s]['avg_message_len'])\n",
    "    print(\"\\n\")"
   ]
  },
  {
   "cell_type": "code",
   "execution_count": null,
   "metadata": {},
   "outputs": [],
   "source": [
    "senderStats(threads, 3)"
   ]
  },
  {
   "cell_type": "code",
   "execution_count": null,
   "metadata": {},
   "outputs": [],
   "source": [
    "def messagesTimeOfDay(threadList, separate=False, ax=None, relative=False):\n",
    "    if(separate):\n",
    "        fig, ax = plt.subplots()\n",
    "        for thread in threadList:\n",
    "            messagesTimeOfDay([thread], ax=ax, relative=relative)\n",
    "        plt.legend()\n",
    "        return\n",
    "    \n",
    "    quarters = np.zeros(24 * 4)\n",
    "\n",
    "    for thread in threadList:\n",
    "        for message in thread.messages:\n",
    "            index = message.time.hour * 4 + message.time.minute // 15\n",
    "            quarters[index] += 1\n",
    "\n",
    "    kernel = np.array([0.09672046549155401, 0.24044903390287659, 0.3256610012111388, 0.24044903390287659, 0.09672046549155401])\n",
    "    r = kernel.size // 2\n",
    "    smoothed = np.zeros(24 * 4)\n",
    "    for i in range(24 * 4):\n",
    "        s = 0\n",
    "        for j in range(-r, r + 1):\n",
    "            s += kernel[j + r] * quarters[(i + j) % (24 * 4)]\n",
    "        smoothed[i] = s / 15\n",
    "            \n",
    "    x = [i / 4 for i in range(24 * 4 + 1)]\n",
    "    smoothed=smoothed.tolist() + [smoothed[0]]\n",
    "    if (relative):\n",
    "        smoothed=smoothed/np.trapz(smoothed)\n",
    "    if (ax==None):\n",
    "        fig, ax = plt.subplots()\n",
    "        ax.plot(x, smoothed,\"r\")\n",
    "    else:\n",
    "        ax.plot(x, smoothed, label=threadList[0].title)\n",
    "    plt.xlabel(\"Hours of the day\")\n",
    "    if(relative):\n",
    "        plt.ylabel(\"Relative frequency of messages\")\n",
    "    else:\n",
    "        plt.ylabel(\"Number of messages\")\n",
    "    plt.title(\"Distribution of messages within a day\")\n",
    "    plt.xticks([0,4,8,12,16,20,24])\n",
    "\n",
    "    plt.xlim(0, 24.00)\n",
    "    plt.grid(True)\n"
   ]
  },
  {
   "cell_type": "code",
   "execution_count": null,
   "metadata": {},
   "outputs": [],
   "source": [
    "def standardizeTexts(threadList):\n",
    "    standardTexts = []\n",
    "    for thread in threadList:\n",
    "        for message in thread.messages:\n",
    "            if message.text != \"\":\n",
    "                message2 = message\n",
    "                text = message.text\n",
    "                message2.text = unicodedata.normalize('NFD', text).encode('ascii', 'ignore').lower().decode(\"utf-8\") \n",
    "                standardTexts.append(message2)\n",
    "    return standardTexts"
   ]
  },
  {
   "cell_type": "code",
   "execution_count": null,
   "metadata": {},
   "outputs": [],
   "source": [
    "def searchCount(standardTexts, key):\n",
    "    key = unicodedata.normalize('NFD', key).encode('ascii', 'ignore').lower().decode(\"utf-8\") \n",
    "    result = dict()\n",
    "    for message in standardTexts:\n",
    "        c = message.text.count(key)\n",
    "        if (message.senderName in result):\n",
    "            result[message.senderName]['count'] += c\n",
    "        else:\n",
    "            result[message.senderName] = {'count': c}\n",
    "\n",
    "    return result"
   ]
  },
  {
   "cell_type": "code",
   "execution_count": null,
   "metadata": {},
   "outputs": [],
   "source": [
    "def wordNumber (threadList, key, topN=None):\n",
    "    standardTexts = standardizeTexts(threadList)\n",
    "    hits = searchCount(standardTexts, key)\n",
    "\n",
    "    print(\"Number of occurances of \\\"\" + str(key) + \"\\\"\")\n",
    "    for s in firstAndLastElements(sorted(hits.keys(), key=lambda x: hits[x]['count'], reverse=True),topN,None):\n",
    "        print(s, \": \", hits[s]['count'])\n",
    "    print(\"\\n\")"
   ]
  },
  {
   "cell_type": "code",
   "execution_count": null,
   "metadata": {},
   "outputs": [],
   "source": [
    "def getWordCounts(threadList, separate):\n",
    "    wordCounts = dict()\n",
    "    standardTexts=standardizeTexts(threadList)\n",
    "\n",
    "    for message in standardTexts:\n",
    "        words = message.text.split()\n",
    "        sender=message.senderName\n",
    "        if(not separate):\n",
    "            sender=\"Sum of all users\"\n",
    "        for word in words:\n",
    "            if (sender in wordCounts.keys()):\n",
    "                if (word in wordCounts[sender].keys()):\n",
    "                    wordCounts[sender][word] += 1\n",
    "                else:\n",
    "                    wordCounts[sender][word] = 1\n",
    "            else:\n",
    "                wordCounts[sender] = {word: 1}\n",
    "    return wordCounts"
   ]
  },
  {
   "cell_type": "code",
   "execution_count": null,
   "metadata": {},
   "outputs": [],
   "source": [
    "def harmonicNumber (s, N):\n",
    "    return sum([1/k**s for k in range(1,N+1)])"
   ]
  },
  {
   "cell_type": "code",
   "execution_count": null,
   "metadata": {},
   "outputs": [],
   "source": [
    "def mostUsedWords(threadList, separate=False, first=0, last=11, ZipfPlot=True):\n",
    "    wordCounts=getWordCounts(threadList, separate)\n",
    "    print(\"Most used words:\")\n",
    "    for sender in wordCounts.keys():\n",
    "        print(sender)\n",
    "        for word in sorted(wordCounts[sender], key=wordCounts[sender].get, reverse=True)[first:last]:\n",
    "            print(word, \":\", wordCounts[sender][word])\n",
    "        print()\n",
    "    \n",
    "    if(not ZipfPlot):\n",
    "        return\n",
    "    \n",
    "    if(separate):\n",
    "        print(\"to recieve distribution plot, set separate=False\")\n",
    "        return\n",
    "    \n",
    "    numbers=[]\n",
    "    for word in sorted(wordCounts[\"Sum of all users\"], key=wordCounts[\"Sum of all users\"].get, reverse=True):\n",
    "        if(wordCounts[\"Sum of all users\"][word]<5):\n",
    "            break\n",
    "        numbers.append(wordCounts[\"Sum of all users\"][word])\n",
    "    area=np.trapz(numbers)\n",
    "    numbers=numbers/area\n",
    "    N=len(numbers)\n",
    "    \n",
    "    H_N=harmonicNumber(1,N)\n",
    "    Zipf=[1/k/H_N for k in range(1,N+1)]\n",
    "\n",
    "    fig, ax=plt.subplots()\n",
    "    plt.yscale(\"log\")\n",
    "    plt.xscale(\"log\")\n",
    "    plt.grid(True)\n",
    "    ax.plot(range(1,N+1), numbers, \"r\", label=\"distribution of words\")\n",
    "    ax.plot(range(1,N+1), Zipf, \"k\", label=\"Zipf distribution (with s=1)\")\n",
    "\n",
    "    plt.legend()\n",
    "    plt.xlabel(\"Index of word\")\n",
    "    plt.ylabel(\"Relative frequency\")\n",
    "    plt.title(\"Zipf's law in action\")"
   ]
  },
  {
   "cell_type": "code",
   "execution_count": null,
   "metadata": {},
   "outputs": [],
   "source": [
    "def timeElapsed(resp, threadList):\n",
    "    \n",
    "    responseTimes=[]\n",
    "\n",
    "    for thread in threadList:\n",
    "        lastSender=thread.messages[0].senderName\n",
    "        lastTime=thread.messages[0].time\n",
    "        for message in thread.messages:\n",
    "            if (lastSender!=resp and message.senderName==resp):\n",
    "                responseTimes.append((message.time-lastTime).total_seconds())\n",
    "            lastSender=message.senderName\n",
    "            lastTime=message.time\n",
    "    return responseTimes"
   ]
  },
  {
   "cell_type": "code",
   "execution_count": null,
   "metadata": {},
   "outputs": [],
   "source": [
    "def histplot(responseTimes, responder, ax):\n",
    "    counts,bins= np.histogram(responseTimes, bins=30, range=(0,300))\n",
    "    portion=sum(counts)*100/len(responseTimes)\n",
    "    print(\"%.1f%% of %s's answers come within 5 minutes\" % (portion, responder))\n",
    "\n",
    "    counts2,bins2 = np.histogram(responseTimes, bins=30, range=(0,60))\n",
    "    portion2=sum(counts2)*100/len(responseTimes)\n",
    "    print(\"%.1f%% of %s's answers come within 1 minutes\" % (portion2, responder))\n",
    "    \n",
    "    respo2=[x if x<=300 else 320 for x in responseTimes]\n",
    "    ax.hist(respo2, 100, range=(0,320), density=True, histtype='step',cumulative=True, label=\"responses of %s\" % responder)"
   ]
  },
  {
   "cell_type": "code",
   "execution_count": null,
   "metadata": {},
   "outputs": [],
   "source": [
    "def getParticipants (threadList):\n",
    "    participants=set([])\n",
    "    for thread in threadList:\n",
    "        participants = participants | set(thread.participants)\n",
    "    return participants"
   ]
  },
  {
   "cell_type": "code",
   "execution_count": null,
   "metadata": {},
   "outputs": [],
   "source": [
    "def responseTime(threadList):\n",
    "    fig, ax = plt.subplots()\n",
    "    for responder in getParticipants(threadList):\n",
    "        responseTimes=timeElapsed(responder, threadList)\n",
    "        histplot(responseTimes, responder, ax)\n",
    "\n",
    "\n",
    "    plt.title(\"Cumulative distribution function of response times\")\n",
    "    plt.xlabel(\"Response time (sec)\")\n",
    "    plt.ylabel(\"Portion of responses\")\n",
    "    plt.xlim(0,300)\n",
    "    plt.legend(loc=\"lower right\")\n",
    "    plt.grid(True)\n",
    "    plt.show()"
   ]
  },
  {
   "cell_type": "code",
   "execution_count": null,
   "metadata": {},
   "outputs": [],
   "source": [
    "def mostReacted (threadList, n):\n",
    "    nBest = []\n",
    "    titles = []\n",
    "    threadListSorted=sorted(threadList, key=lambda thread: thread.participants, reverse=True)\n",
    "    for thread in threadListSorted:\n",
    "        for message in thread.messages:\n",
    "            if len(message.reactions)==0:\n",
    "                continue\n",
    "            if len(nBest)<n:\n",
    "                nBest.append(message)\n",
    "                titles.append(thread.title)\n",
    "                if len(nBest)==n:\n",
    "                    titles, nBest=list(zip(*[(x,y) for y,x in sorted(zip(nBest,titles), key = lambda mesti: len(mesti[0].reactions), reverse=True)]))\n",
    "                continue\n",
    "            if len(message.reactions) > len(nBest[n-1].reactions):\n",
    "                titles=[titles[i] for i in range(n) if len(nBest[i].reactions)>=len(message.reactions)] + [thread.title] + [titles[i] for i in range(n-1) if len(nBest[i].reactions)<len(message.reactions)]\n",
    "                nBest=[mes for mes in nBest if len(mes.reactions)>=len(message.reactions)] + [message] + [mes for mes in nBest[:-1] if len(mes.reactions)<len(message.reactions)]\n",
    "    \n",
    "    for index, message in enumerate(nBest):\n",
    "        print(\"%d. %s (%d reactions):\\n%s\\n%s, [%s]\\n\" % (index+1, message.senderName, len(message.reactions), message.text, titles[index], str(message.time)))"
   ]
  },
  {
   "cell_type": "code",
   "execution_count": null,
   "metadata": {},
   "outputs": [],
   "source": [
    "def threadByTitle(title):\n",
    "    for thread in threads:\n",
    "        if(thread.title==title):\n",
    "            return thread\n",
    "    print(\"Title not found\")\n",
    "    return None"
   ]
  },
  {
   "cell_type": "code",
   "execution_count": null,
   "metadata": {},
   "outputs": [],
   "source": [
    "def testCases():\n",
    "    printFirsts(5)\n",
    "    messagesTime(threads[:10])\n",
    "    senderStats([threads[0]], topN=1)\n",
    "    messagesTimeOfDay(threads)\n",
    "    wordNumber([threads[0]], \"egyenlore\")\n",
    "    mostUsedWords(threads, separate=False)\n",
    "    mostUsedWords([threads[0]], separate=True, ZipfPlot=False)\n",
    "    responseTime([threads[0]])"
   ]
  },
  {
   "cell_type": "code",
   "execution_count": null,
   "metadata": {},
   "outputs": [],
   "source": [
    "#mostReacted([threadByTitle(\"Kvótációk\")],5)"
   ]
  },
  {
   "cell_type": "code",
   "execution_count": null,
   "metadata": {},
   "outputs": [],
   "source": [
    "testCases()"
   ]
  },
  {
   "cell_type": "code",
   "execution_count": null,
   "metadata": {},
   "outputs": [],
   "source": [
    "printFirsts(30)"
   ]
  },
  {
   "cell_type": "code",
   "execution_count": null,
   "metadata": {},
   "outputs": [],
   "source": [
    "messagesTime([threads[0]])"
   ]
  },
  {
   "cell_type": "code",
   "execution_count": null,
   "metadata": {},
   "outputs": [],
   "source": [
    "senderStats([threads[0]],topN=5)"
   ]
  },
  {
   "cell_type": "code",
   "execution_count": null,
   "metadata": {},
   "outputs": [],
   "source": [
    "messagesTimeOfDay(threads[:3], separate=True, relative=True)"
   ]
  },
  {
   "cell_type": "code",
   "execution_count": null,
   "metadata": {},
   "outputs": [],
   "source": []
  }
 ],
 "metadata": {
  "kernelspec": {
   "display_name": "base",
   "language": "python",
   "name": "python3"
  },
  "language_info": {
   "codemirror_mode": {
    "name": "ipython",
    "version": 3
   },
   "file_extension": ".py",
   "mimetype": "text/x-python",
   "name": "python",
   "nbconvert_exporter": "python",
   "pygments_lexer": "ipython3",
   "version": "3.11.2"
  },
  "orig_nbformat": 4,
  "vscode": {
   "interpreter": {
    "hash": "49cb93f377a7abe7414b7b0f21fb3017538004a126cf690fb524202736b7fb92"
   }
  }
 },
 "nbformat": 4,
 "nbformat_minor": 2
}
