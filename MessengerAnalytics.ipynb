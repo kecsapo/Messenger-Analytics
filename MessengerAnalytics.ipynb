{
 "cells": [
  {
   "cell_type": "code",
   "execution_count": 74,
   "metadata": {},
   "outputs": [],
   "source": [
    "import matplotlib.pyplot as plt\n",
    "import numpy as np\n",
    "import json\n",
    "import datetime\n",
    "import unicodedata\n",
    "from pylab import rcParams\n",
    "import os"
   ]
  },
  {
   "cell_type": "code",
   "execution_count": 75,
   "metadata": {},
   "outputs": [],
   "source": [
    "rcParams['figure.figsize'] = 16,10\n",
    "rcParams['font.size'] = 20"
   ]
  },
  {
   "cell_type": "code",
   "execution_count": 76,
   "metadata": {},
   "outputs": [],
   "source": [
    "class Reaction:\n",
    "    def __init__ (self, reaction_dict):\n",
    "        self.actor=reaction_dict[\"actor\"]\n",
    "        self.reaction=reaction_dict[\"reaction\"]"
   ]
  },
  {
   "cell_type": "code",
   "execution_count": 77,
   "metadata": {},
   "outputs": [],
   "source": [
    "class Message:\n",
    "    def __init__ (self, message_dict):\n",
    "        if \"content\" in message_dict.keys():\n",
    "            self.text=message_dict[\"content\"]       #text of message\n",
    "        else:\n",
    "            self.text=\"\"\n",
    "        self.senderName=message_dict[\"sender_name\"]      #sender's name\n",
    "        self.time=datetime.datetime.fromtimestamp(message_dict[\"timestamp_ms\"]//1000)      #time when message was sent\n",
    "        self.reactions=[]\n",
    "        if \"reactions\" in message_dict.keys():\n",
    "            for reaction in message_dict[\"reactions\"]:\n",
    "                self.reactions.append(Reaction(reaction))"
   ]
  },
  {
   "cell_type": "code",
   "execution_count": 78,
   "metadata": {},
   "outputs": [],
   "source": [
    "class Thread:\n",
    "    def __init__ (self, allData):\n",
    "        self.participants=[]\n",
    "        self.messages=[]\n",
    "        self.title=allData[\"title\"]\n",
    "        for participant in allData[\"participants\"]:\n",
    "            self.participants.append(participant[\"name\"])\n",
    "        for message in allData[\"messages\"]:\n",
    "            self.messages.append(Message(message))\n",
    "        self.messageCount=len(self.messages)\n",
    "        self.messages=sorted(self.messages,key=lambda message: message.time)\n",
    "    \n",
    "    def messagesUntil (self, date):\n",
    "        count=0\n",
    "        for message in self.messages:\n",
    "            if message.time<date:\n",
    "                count+=1\n",
    "        return count"
   ]
  },
  {
   "cell_type": "code",
   "execution_count": 79,
   "metadata": {},
   "outputs": [],
   "source": [
    "threads=[]\n",
    "base = os.path.join(os.getcwd(), \"messages\", \"inbox\")\n",
    "dirs = next(os.walk(base))[1]\n",
    "for s in dirs:\n",
    "    dir=os.path.join(base, s)\n",
    "    try:\n",
    "        f = open(os.path.join(dir, \"message_\" + str(1) + \".json\"), 'r', encoding='utf8')\n",
    "        s = f.read().encode().decode('raw_unicode_escape').encode('latin1').decode('utf8')\n",
    "        js = json.loads(s, strict=False)\n",
    "        i = 2\n",
    "        while True:\n",
    "            try:\n",
    "                f = open(os.path.join(dir, \"message_\" + str(i) + \".json\"), 'r', encoding='utf8')\n",
    "            except:\n",
    "                break\n",
    "            i += 1\n",
    "            s = f.read().encode().decode('raw_unicode_escape').encode('latin1').decode('utf8')\n",
    "            n = json.loads(s, strict=False)\n",
    "            js[\"messages\"].extend(n[\"messages\"])\n",
    "        threads.append(Thread(js))\n",
    "    except:\n",
    "        continue\n",
    "threads=sorted(threads, key=lambda thread: thread.messageCount, reverse=True)"
   ]
  },
  {
   "cell_type": "code",
   "execution_count": 80,
   "metadata": {},
   "outputs": [],
   "source": [
    "def printFirsts (n):\n",
    "    ii=0\n",
    "    for thread in threads:\n",
    "        ii+=1\n",
    "        print(\"%d. %s: %d messages\" % (ii,thread.title,thread.messageCount))\n",
    "        if ii>=n:\n",
    "            break"
   ]
  },
  {
   "cell_type": "code",
   "execution_count": 81,
   "metadata": {},
   "outputs": [],
   "source": [
    "def findExtremeDates(threadList):\n",
    "    firstDate=threadList[0].messages[0].time\n",
    "    lastDate=threadList[0].messages[-1].time\n",
    "    for thread in threadList[1:]:\n",
    "        if thread.messages[0].time<firstDate:\n",
    "            firstDate=thread.messages[0].time\n",
    "        if thread.messages[-1].time>lastDate:\n",
    "            lastDate=thread.messages[-1].time\n",
    "    return firstDate,lastDate"
   ]
  },
  {
   "cell_type": "code",
   "execution_count": 82,
   "metadata": {},
   "outputs": [],
   "source": [
    "def messagesTime (threadList):\n",
    "    N = 1000\n",
    "    firstDate, lastDate = findExtremeDates(threadList)\n",
    "    totalDelta = lastDate - firstDate\n",
    "    fig, ax = plt.subplots()\n",
    "\n",
    "    for thread in threadList:\n",
    "        buckets = np.zeros(N)\n",
    "        for message in thread.messages:\n",
    "            buckets[int((message.time - firstDate) / totalDelta * (N - 1))] += 1\n",
    "        buckets = np.cumsum(buckets)\n",
    "        ax.plot(buckets, label=thread.title)\n",
    "    ax.legend()\n",
    "    dateNames=[]\n",
    "    for n in range(6):\n",
    "        d=firstDate+n*totalDelta/5\n",
    "        s=\"\"\n",
    "        if(d.month<10):\n",
    "            s=\"0\"\n",
    "        dateNames.append(str(d.year)+\"-\"+s+str(d.month))\n",
    "    ax.set_xticks([n*1000/5 for n in range (6)],dateNames)\n",
    "    \n",
    "    plt.xticks(fontsize=15, rotation = 90)\n",
    "    plt.xlabel(\"Date\")\n",
    "    plt.ylabel(\"Number of messages (thousand)\")\n",
    "    plt.title(\"Number of messages in time\")\n",
    "    plt.grid(True)"
   ]
  },
  {
   "cell_type": "code",
   "execution_count": 83,
   "metadata": {},
   "outputs": [],
   "source": [
    "def firstAndLastElements(listIn, topN, bottomN):\n",
    "    if topN == None and bottomN==None:\n",
    "        return listIn\n",
    "    if topN == None:\n",
    "        return listIn[-bottomN:]\n",
    "    if bottomN == None:\n",
    "        return listIn[:topN]\n",
    "    if topN+bottomN>=len(listIn):\n",
    "        return listIn\n",
    "    return listIn[:topN]+ listIn[-bottomN:]"
   ]
  },
  {
   "cell_type": "code",
   "execution_count": 84,
   "metadata": {},
   "outputs": [],
   "source": [
    "def senderStats (threadList, topN=None, bottomN=None):\n",
    "    statsPerSender = {}\n",
    "\n",
    "    for thread in threadList:\n",
    "        for message in thread.messages:\n",
    "                emojis = 0 #emoji.emoji_count(m['content'])\n",
    "                words = len(message.text.split())\n",
    "                letters = len(message.text) - emojis - words + 1\n",
    "                if message.senderName in statsPerSender:\n",
    "                    statsPerSender[message.senderName]['letter_count'] += letters\n",
    "                    statsPerSender[message.senderName]['emoji_count'] += emojis\n",
    "                    statsPerSender[message.senderName]['word_count'] += words\n",
    "                    statsPerSender[message.senderName]['message_count'] += 1\n",
    "                else:\n",
    "                    statsPerSender[message.senderName] = {'letter_count': letters, 'emoji_count': emojis, 'word_count': words, 'message_count': 1}\n",
    "\n",
    "    for s in statsPerSender:\n",
    "        statsPerSender[s]['avg_word_len'] =    round(statsPerSender[s]['letter_count'] / statsPerSender[s]['word_count'], 1)\n",
    "        statsPerSender[s]['avg_message_len'] = round(statsPerSender[s]['letter_count'] / statsPerSender[s]['message_count'], 1)\n",
    "\n",
    "    print(\"Number of characters\")\n",
    "    for s in firstAndLastElements(sorted(statsPerSender.keys(), key=lambda x: statsPerSender[x]['letter_count'], reverse=True), topN, bottomN):\n",
    "        print(s, \": \", statsPerSender[s]['letter_count'])\n",
    "\n",
    "    #print(\"\\nEmojik száma\")\n",
    "    #for s in firstAndLastElements(sorted(statsPerSender.keys(), key=lambda x: statsPerSender[x]['emoji_count'], reverse=True), topN, bottomN):\n",
    "    #    print(s, \": \", statsPerSender[s]['emoji_count'])\n",
    "\n",
    "    print(\"\\nNumber of words\")\n",
    "    for s in firstAndLastElements(sorted(statsPerSender.keys(), key=lambda x: statsPerSender[x]['word_count'], reverse=True), topN, bottomN):\n",
    "        print(s, \": \", statsPerSender[s]['word_count'])\n",
    "\n",
    "    print(\"\\nAverage length of words\")\n",
    "    for s in firstAndLastElements(sorted(statsPerSender.keys(), key=lambda x: statsPerSender[x]['avg_word_len'], reverse=True), topN, bottomN):\n",
    "        print(s, \": \", statsPerSender[s]['avg_word_len'], \" characters\")\n",
    "\n",
    "    print(\"\\nÁtlagos üzenethossz karakterben\")\n",
    "    for s in firstAndLastElements(sorted(statsPerSender.keys(), key=lambda x: statsPerSender[x]['avg_message_len'], reverse=True), topN, bottomN):\n",
    "        print(s, \": \", statsPerSender[s]['avg_message_len'])\n",
    "    print(\"\\n\")"
   ]
  },
  {
   "cell_type": "code",
   "execution_count": 85,
   "metadata": {},
   "outputs": [],
   "source": [
    "def messagesTimeOfDay(threadList):\n",
    "    quarters = np.zeros(24 * 4)\n",
    "\n",
    "    for thread in threadList:\n",
    "        for message in thread.messages:\n",
    "            index = message.time.hour * 4 + message.time.minute // 15\n",
    "            quarters[index] += 1\n",
    "\n",
    "    kernel = np.array([0.09672046549155401, 0.24044903390287659, 0.3256610012111388, 0.24044903390287659, 0.09672046549155401])\n",
    "    r = kernel.size // 2\n",
    "    smoothed = np.zeros(24 * 4)\n",
    "    for i in range(24 * 4):\n",
    "        s = 0\n",
    "        for j in range(-r, r + 1):\n",
    "            s += kernel[j + r] * quarters[(i + j) % (24 * 4)]\n",
    "        smoothed[i] = s / 15\n",
    "            \n",
    "    x = [i / 4 for i in range(24 * 4 + 1)]\n",
    "    fig, ax = plt.subplots()\n",
    "    ax.plot(x, smoothed.tolist() + [smoothed[0]],\"r\")\n",
    "\n",
    "    plt.xlabel(\"Hours of the day\")\n",
    "    plt.ylabel(\"Message count\")\n",
    "    plt.title(\"Frequency of messages within a day\")\n",
    "    plt.xticks([0,4,8,12,16,20,24])\n",
    "\n",
    "    plt.xlim(0, 24.00)\n",
    "    plt.grid(True)"
   ]
  },
  {
   "cell_type": "code",
   "execution_count": 86,
   "metadata": {},
   "outputs": [],
   "source": [
    "def standardizeTexts(threadList):\n",
    "    standardTexts = []\n",
    "    for thread in threadList:\n",
    "        for m in thread.messages:\n",
    "            if m.text != \"\":\n",
    "                m2 = m\n",
    "                s = m.text\n",
    "                m2.text = unicodedata.normalize('NFD', s).encode('ascii', 'ignore').lower().decode(\"utf-8\") \n",
    "                standardTexts.append(m2)\n",
    "    return standardTexts"
   ]
  },
  {
   "cell_type": "code",
   "execution_count": 87,
   "metadata": {},
   "outputs": [],
   "source": [
    "def searchCount(standardTexts, key):\n",
    "    key = unicodedata.normalize('NFD', key).encode('ascii', 'ignore').lower().decode(\"utf-8\") \n",
    "    result = dict()\n",
    "    for message in standardTexts:\n",
    "        c = message.text.count(key)\n",
    "        if (message.senderName in result):\n",
    "            result[message.senderName]['count'] += c\n",
    "        else:\n",
    "            result[message.senderName] = {'count': c}\n",
    "\n",
    "    return result"
   ]
  },
  {
   "cell_type": "code",
   "execution_count": 88,
   "metadata": {},
   "outputs": [],
   "source": [
    "def wordNumber (threadList, key, topN=None):\n",
    "    standardTexts = standardizeTexts(threadList)\n",
    "    hits = searchCount(standardTexts, key)\n",
    "\n",
    "    print(\"Number of occurances of \\\"\" + str(key) + \"\\\"\")\n",
    "    for s in firstAndLastElements(sorted(hits.keys(), key=lambda x: hits[x]['count'], reverse=True),topN,None):\n",
    "        print(s, \": \", hits[s]['count'])\n",
    "    print(\"\\n\")"
   ]
  },
  {
   "cell_type": "code",
   "execution_count": 89,
   "metadata": {},
   "outputs": [],
   "source": [
    "def getWordCounts(threadList, separate):\n",
    "    wordCounts = dict()\n",
    "    standardTexts=standardizeTexts(threadList)\n",
    "\n",
    "    for message in standardTexts:\n",
    "        words = message.text.split()\n",
    "        sender=message.senderName\n",
    "        if(not separate):\n",
    "            sender=\"Sum of all users\"\n",
    "        for word in words:\n",
    "            if (sender in wordCounts.keys()):\n",
    "                if (word in wordCounts[sender].keys()):\n",
    "                    wordCounts[sender][word] += 1\n",
    "                else:\n",
    "                    wordCounts[sender][word] = 1\n",
    "            else:\n",
    "                wordCounts[sender] = {word: 1}\n",
    "    return wordCounts"
   ]
  },
  {
   "cell_type": "code",
   "execution_count": 90,
   "metadata": {},
   "outputs": [],
   "source": [
    "def mostUsedWords(threadList, separate=True, first=0, last=11):\n",
    "    wordCounts=getWordCounts(threadList, separate)\n",
    "    print(\"Most used words:\")\n",
    "    for sender in wordCounts.keys():\n",
    "        print(sender)\n",
    "        for word in sorted(wordCounts[s], key=wordCounts[s].get, reverse=True)[first:last]:\n",
    "            print(word, \":\", wordCounts[s][w])\n",
    "        print()"
   ]
  },
  {
   "cell_type": "code",
   "execution_count": 91,
   "metadata": {},
   "outputs": [],
   "source": [
    "def timeElapsed(resp, threadList):\n",
    "    \n",
    "    responseTimes=[]\n",
    "\n",
    "    for thread in threadList:\n",
    "        lastSender=thread.messages[0].senderName\n",
    "        lastTime=thread.messages[0].time\n",
    "        for message in thread.messages:\n",
    "            if (lastSender!=resp and message.senderName==resp):\n",
    "                responseTimes.append((message.time-lastTime).total_seconds())\n",
    "            lastSender=message.senderName\n",
    "            lastTime=message.time\n",
    "    return responseTimes"
   ]
  },
  {
   "cell_type": "code",
   "execution_count": 92,
   "metadata": {},
   "outputs": [],
   "source": [
    "def histplot(responseTimes, responder):\n",
    "    counts,bins= np.histogram(responseTimes, bins=30, range=(0,300))\n",
    "    portion=sum(counts)*100/len(responseTimes)\n",
    "    print(\"%.1f%% of %s's answers come within 5 miniutes\" % (portion, responder))\n",
    "\n",
    "    counts2,bins2 = np.histogram(responseTimes, bins=30, range=(0,1))\n",
    "    portion2=sum(counts2)*100/len(responseTimes)\n",
    "    print(\"%.1f%% of %s's answers come within 5 miniutes\" % (portion2, responder))\n",
    "    \n",
    "    respo2=[x if x<=300 else 320 for x in responseTimes]\n",
    "    plt.hist(respo2, 100, range=(0,320), density=True, histtype='step',cumulative=True, label=\"responses of %s\" % responder)"
   ]
  },
  {
   "cell_type": "code",
   "execution_count": 93,
   "metadata": {},
   "outputs": [],
   "source": [
    "def getParticipants (threadList):\n",
    "    participants=set([])\n",
    "    for thread in threadList:\n",
    "        participants = participants | set(thread.participants)\n",
    "    return participants"
   ]
  },
  {
   "cell_type": "code",
   "execution_count": 94,
   "metadata": {},
   "outputs": [],
   "source": [
    "def responseTime(threadList):\n",
    "    for responder in getParticipants(threadList):\n",
    "        responseTimes=timeElapsed(responder, threadList)\n",
    "        histplot(responseTimes, responder)\n",
    "\n",
    "\n",
    "    plt.title(\"Cumulative distribution function of response times\")\n",
    "    plt.xlabel(\"Response time (sec)\")\n",
    "    plt.ylabel(\"Portion of responses\")\n",
    "    plt.xlim(0,300)\n",
    "    plt.legend(loc=\"lower right\")\n",
    "    plt.grid(True)\n",
    "    plt.show()"
   ]
  },
  {
   "cell_type": "code",
   "execution_count": 95,
   "metadata": {},
   "outputs": [],
   "source": [
    "def testCases():\n",
    "    printFirsts(5)\n",
    "    messagesTime(threads[:10])\n",
    "    senderStats([threads[0]], topN=1)\n",
    "    messagesTimeOfDay(threads)\n",
    "    wordNumber([threads[1]], \"egyenlore\")\n",
    "    wordNumber(threads[:1], \"egyenlore\", topN=1)\n",
    "    #mostUsedWords(threads, separate=False)\n",
    "    #mostUsedWords([threads[1]], separate=True, topN=3)\n",
    "    responseTime([threads[1]])"
   ]
  },
  {
   "cell_type": "code",
   "execution_count": 99,
   "metadata": {},
   "outputs": [
    {
     "name": "stdout",
     "output_type": "stream",
     "text": [
      "94.1% of Balázs Bonifert's answers come within 5 miniutes\n",
      "4.6% of Balázs Bonifert's answers come within 5 miniutes\n",
      "91.9% of Ábel Tóth's answers come within 5 miniutes\n",
      "5.2% of Ábel Tóth's answers come within 5 miniutes\n"
     ]
    },
    {
     "data": {
      "image/png": "[encoded data removed]",
      "text/plain": [
       "<Figure size 1152x720 with 1 Axes>"
      ]
     },
     "metadata": {
      "needs_background": "light"
     },
     "output_type": "display_data"
    }
   ],
   "source": [
    "responseTime([threads[1]])"
   ]
  },
  {
   "cell_type": "code",
   "execution_count": 96,
   "metadata": {},
   "outputs": [],
   "source": [
    "#testCases()"
   ]
  },
  {
   "cell_type": "code",
   "execution_count": null,
   "metadata": {},
   "outputs": [],
   "source": []
  }
 ],
 "metadata": {
  "kernelspec": {
   "display_name": "base",
   "language": "python",
   "name": "python3"
  },
  "language_info": {
   "codemirror_mode": {
    "name": "ipython",
    "version": 3
   },
   "file_extension": ".py",
   "mimetype": "text/x-python",
   "name": "python",
   "nbconvert_exporter": "python",
   "pygments_lexer": "ipython3",
   "version": "3.9.12"
  },
  "orig_nbformat": 4,
  "vscode": {
   "interpreter": {
    "hash": "49cb93f377a7abe7414b7b0f21fb3017538004a126cf690fb524202736b7fb92"
   }
  }
 },
 "nbformat": 4,
 "nbformat_minor": 2
}
