{
 "cells": [
  {
   "cell_type": "code",
   "execution_count": null,
   "metadata": {},
   "outputs": [],
   "source": [
    "#%matplotlib inline\n",
    "from matplotlib.pyplot import *\n",
    "import numpy as np\n",
    "import json\n",
    "import datetime\n",
    "import unicodedata\n",
    "from pylab import rcParams\n",
    "import os"
   ]
  },
  {
   "cell_type": "code",
   "execution_count": null,
   "metadata": {},
   "outputs": [],
   "source": [
    "rcParams['figure.figsize'] = 16,10\n",
    "rcParams['font.size'] = 20"
   ]
  },
  {
   "cell_type": "code",
   "execution_count": null,
   "metadata": {},
   "outputs": [],
   "source": [
    "class Reaction:\n",
    "    def __init__ (self, reaction_dict):\n",
    "        self.actor=reaction_dict[\"actor\"]\n",
    "        self.reaction=reaction_dict[\"reaction\"]"
   ]
  },
  {
   "cell_type": "code",
   "execution_count": null,
   "metadata": {},
   "outputs": [],
   "source": [
    "class Message:\n",
    "    def __init__ (self, message_dict):\n",
    "        if \"content\" in message_dict.keys():\n",
    "            self.text=message_dict[\"content\"]       #text of message\n",
    "        else:\n",
    "            self.text=\"\"\n",
    "        self.senderName=message_dict[\"sender_name\"]      #sender's name\n",
    "        self.time=datetime.datetime.fromtimestamp(message_dict[\"timestamp_ms\"]//1000)      #time when message was sent\n",
    "        self.reactions=[]\n",
    "        if \"reactions\" in message_dict.keys():\n",
    "            for reaction in message_dict[\"reactions\"]:\n",
    "                self.reactions.append(Reaction(reaction))"
   ]
  },
  {
   "cell_type": "code",
   "execution_count": null,
   "metadata": {},
   "outputs": [],
   "source": [
    "class Thread:\n",
    "    def __init__ (self, allData):\n",
    "        self.participants=[]\n",
    "        self.messages=[]\n",
    "        self.title=allData[\"title\"]\n",
    "        for participant in allData[\"participants\"]:\n",
    "            self.participants.append(participant)\n",
    "        for message in allData[\"messages\"]:\n",
    "            self.messages.append(Message(message))\n",
    "        self.messageCount=len(self.messages)\n",
    "        self.messages=sorted(self.messages,key=lambda message: message.time)\n",
    "    \n",
    "    def messagesUntil (date):\n",
    "        count=0\n",
    "        for message in messages:\n",
    "            if message.time<date:\n",
    "                count+=1\n",
    "        return count"
   ]
  },
  {
   "cell_type": "code",
   "execution_count": null,
   "metadata": {},
   "outputs": [],
   "source": [
    "threads=[]\n",
    "base = os.path.join(os.getcwd(), \"messages\", \"inbox\")\n",
    "dirs = next(os.walk(base))[1]\n",
    "for s in dirs:\n",
    "    dir=os.path.join(base, s)\n",
    "    try:\n",
    "        f = open(os.path.join(dir, \"message_\" + str(1) + \".json\"), 'r', encoding='utf8')\n",
    "        s = f.read().encode().decode('raw_unicode_escape').encode('latin1').decode('utf8')\n",
    "        js = json.loads(s, strict=False)\n",
    "        i = 2\n",
    "        while True:\n",
    "            try:\n",
    "                f = open(os.path.join(dir, \"message_\" + str(i) + \".json\"), 'r', encoding='utf8')\n",
    "            except:\n",
    "                break\n",
    "            i += 1\n",
    "            s = f.read().encode().decode('raw_unicode_escape').encode('latin1').decode('utf8')\n",
    "            n = json.loads(s, strict=False)\n",
    "            js[\"messages\"].extend(n[\"messages\"])\n",
    "        threads.append(Thread(js))\n",
    "    except:\n",
    "        continue"
   ]
  },
  {
   "cell_type": "code",
   "execution_count": null,
   "metadata": {},
   "outputs": [],
   "source": [
    "threads=sorted(threads, key=lambda thread: thread.messageCount, reverse=True)"
   ]
  },
  {
   "cell_type": "code",
   "execution_count": null,
   "metadata": {},
   "outputs": [],
   "source": [
    "def printFirsts (n):\n",
    "    ii=0\n",
    "    for thread in threads:\n",
    "        ii+=1\n",
    "        print(\"%d. %s: %d messages\" % (ii,thread.title,thread.messageCount))"
   ]
  },
  {
   "cell_type": "code",
   "execution_count": null,
   "metadata": {},
   "outputs": [],
   "source": [
    "def findExtremeDates(threadList):\n",
    "    firstDate=threadList[0].messages[0].time\n",
    "    lastDate=threadList[0].messages[-1].time\n",
    "    for thread in threadList[1:]:\n",
    "        if thread.messages[0].time<firstDate:\n",
    "            firstDate=thread.messages[0].time\n",
    "        if thread.messages[-1].time>lastDate:\n",
    "            lastDate=thread.messages[-1].time\n",
    "    return firstDate,lastDate"
   ]
  },
  {
   "cell_type": "code",
   "execution_count": null,
   "metadata": {},
   "outputs": [],
   "source": [
    "def messages_time (threadList):\n",
    "    N = 1000\n",
    "    firstDate, lastDate = findExtremeDates(threadList)\n",
    "    totalDelta = lastDate - firstDate\n",
    "\n",
    "    for thread in threadList:\n",
    "        buckets = np.zeros(N)\n",
    "        for m in thread.messages:\n",
    "            buckets[int((m.time - firstDate) / totalDelta * (N - 1))] += 1\n",
    "        buckets = np.cumsum(buckets)\n",
    "        plot(buckets, label=thread.title)\n",
    "        legend()\n",
    "    \n",
    "    xticks(fontsize=15, rotation = 90)\n",
    "    xlabel(\"Date\")\n",
    "    ylabel(\"Number of messages (thousand)\")\n",
    "    title(\"Number of messages in time\")\n",
    "    grid(True)"
   ]
  },
  {
   "cell_type": "code",
   "execution_count": null,
   "metadata": {},
   "outputs": [],
   "source": [
    "def firstAndLastElements(listIn, topN, bottomN):\n",
    "    if topN == None and bottomN==None:\n",
    "        return listIn\n",
    "    if topN == None:\n",
    "        return listIn[-bottomN:]\n",
    "    if bottomN == None:\n",
    "        return listIn[:topN]\n",
    "    if topN+bottomN>=len(listIn):\n",
    "        return listIn\n",
    "    return listIn[:topN]+ listIn[-bottomN:]\n",
    "\n",
    "def senderStats (threadList, topN=None, bottomN=None):\n",
    "    statsPerSender = {}\n",
    "\n",
    "    for thread in threadList:\n",
    "        for m in thread.messages:\n",
    "                emojis = 0 #emoji.emoji_count(m['content'])\n",
    "                words = len(m.text.split())\n",
    "                letters = len(m.text) - emojis - words + 1\n",
    "                if m.senderName in statsPerSender:\n",
    "                    statsPerSender[m.senderName]['letter_count'] += letters\n",
    "                    statsPerSender[m.senderName]['emoji_count'] += emojis\n",
    "                    statsPerSender[m.senderName]['word_count'] += words\n",
    "                    statsPerSender[m.senderName]['message_count'] += 1\n",
    "                else:\n",
    "                    statsPerSender[m.senderName] = {'letter_count': letters, 'emoji_count': emojis, 'word_count': words, 'message_count': 1}\n",
    "\n",
    "    for s in statsPerSender:\n",
    "        statsPerSender[s]['avg_word_len'] =    round(statsPerSender[s]['letter_count'] / statsPerSender[s]['word_count'], 1)\n",
    "        statsPerSender[s]['avg_message_len'] = round(statsPerSender[s]['letter_count'] / statsPerSender[s]['message_count'], 1)\n",
    "\n",
    "    print(\"Number of characters\")\n",
    "    for s in firstAndLastElements(sorted(statsPerSender.keys(), key=lambda x: statsPerSender[x]['letter_count'], reverse=True), topN, bottomN):\n",
    "        print(s, \": \", statsPerSender[s]['letter_count'])\n",
    "\n",
    "    #print(\"\\nEmojik száma\")\n",
    "    #for s in firstAndLastElements(sorted(statsPerSender.keys(), key=lambda x: statsPerSender[x]['emoji_count'], reverse=True), topN, bottomN):\n",
    "    #    print(s, \": \", statsPerSender[s]['emoji_count'])\n",
    "\n",
    "    print(\"\\nNumber of words\")\n",
    "    for s in firstAndLastElements(sorted(statsPerSender.keys(), key=lambda x: statsPerSender[x]['word_count'], reverse=True), topN, bottomN):\n",
    "        print(s, \": \", statsPerSender[s]['word_count'])\n",
    "\n",
    "    print(\"\\nAverage length of words\")\n",
    "    for s in firstAndLastElements(sorted(statsPerSender.keys(), key=lambda x: statsPerSender[x]['avg_word_len'], reverse=True), topN, bottomN):\n",
    "        print(s, \": \", statsPerSender[s]['avg_word_len'], \" characters\")\n",
    "\n",
    "    print(\"\\nÁtlagos üzenethossz karakterben\")\n",
    "    for s in firstAndLastElements(sorted(statsPerSender.keys(), key=lambda x: statsPerSender[x]['avg_message_len'], reverse=True), topN, bottomN):\n",
    "        print(s, \": \", statsPerSender[s]['avg_message_len'])\n",
    "    print(\"\\n\")"
   ]
  },
  {
   "cell_type": "code",
   "execution_count": null,
   "metadata": {},
   "outputs": [],
   "source": [
    "senderStats([threads[0]], 2,2)"
   ]
  },
  {
   "cell_type": "code",
   "execution_count": null,
   "metadata": {},
   "outputs": [],
   "source": [
    "def messages_timeofday(messages):\n",
    "    timestamps=getTime(messages)\n",
    "    quarters = zeros(24 * 4)\n",
    "\n",
    "    for t in timestamps:\n",
    "        index = t.hour * 4 + t.minute // 15\n",
    "        quarters[index] += 1\n",
    "\n",
    "    kernel = array([0.09672046549155401, 0.24044903390287659, 0.3256610012111388, 0.24044903390287659, 0.09672046549155401])\n",
    "    r = kernel.size // 2\n",
    "    smoothed = zeros(24 * 4)\n",
    "    for i in range(24 * 4):\n",
    "        s = 0\n",
    "        for j in range(-r, r + 1):\n",
    "            s += kernel[j + r] * quarters[(i + j) % (24 * 4)]\n",
    "        smoothed[i] = s / 15\n",
    "            \n",
    "    x = [i / 4 for i in range(24 * 4)]\n",
    "    plot(x, smoothed,\"r\")\n",
    "\n",
    "    xlabel(\"Napon belüli órák\")\n",
    "    ylabel(\"Üzenetek száma ebben a percebn\")\n",
    "    title(\"Az üzenetek relatív gyakorisága a napon belül\")\n",
    "    xticks([0,4,8,12,16,20,24])\n",
    "\n",
    "    xlim(0, 24.00)\n",
    "    grid(True)\n",
    "    show()"
   ]
  },
  {
   "cell_type": "code",
   "execution_count": null,
   "metadata": {},
   "outputs": [],
   "source": [
    "def standardizeTexts(threadList):\n",
    "    flatMess = []\n",
    "    for thread in threadList:\n",
    "        for m in thread.messages:\n",
    "            if m.text != \"\":\n",
    "                m2 = m\n",
    "                s = m.text\n",
    "                m2.text = unicodedata.normalize('NFD', s).encode('ascii', 'ignore').lower().decode(\"utf-8\") \n",
    "                flatMess.append(m2)\n",
    "    return flatMess"
   ]
  },
  {
   "cell_type": "code",
   "execution_count": null,
   "metadata": {},
   "outputs": [],
   "source": [
    "def searchCount(flatMess, key):\n",
    "    key = unicodedata.normalize('NFD', key).encode('ascii', 'ignore').lower().decode(\"utf-8\") \n",
    "    result = dict()\n",
    "    for m in flatMess:\n",
    "        c = m.text.count(key)\n",
    "        if (m.senderName in result):\n",
    "            result[m.senderName]['count'] += c\n",
    "        else:\n",
    "            result[m.senderName] = {'count': c}\n",
    "\n",
    "    return result"
   ]
  },
  {
   "cell_type": "code",
   "execution_count": null,
   "metadata": {},
   "outputs": [],
   "source": [
    "def wordNumber (threadList, key, topN=None):\n",
    "    flatMess = standardizeTexts(threadList)\n",
    "    hits = searchCount(flatMess, key)\n",
    "\n",
    "    print(\"Találatok száma a(z) \\\"\" + str(key) + \"\\\" kifejezésre\")\n",
    "    for s in firstAndLastElements(sorted(hits.keys(), key=lambda x: hits[x]['count'], reverse=True),topN,None):\n",
    "        print(s, \": \", hits[s]['count'])\n",
    "    print(\"\\n\")"
   ]
  },
  {
   "cell_type": "code",
   "execution_count": null,
   "metadata": {},
   "outputs": [],
   "source": [
    "def getWordCounts(messsages):\n",
    "    wordCounts = dict()\n",
    "    flatMess=getFlatMess(messages)\n",
    "    for m in flatMess:\n",
    "            words = m['content'].split()\n",
    "            for word in words:\n",
    "                if (m['sender_name'] in wordCounts):\n",
    "                    if (word in wordCounts[m['sender_name']]):\n",
    "                        wordCounts[m['sender_name']][word] += 1\n",
    "                    else:\n",
    "                        wordCounts[m['sender_name']][word] = 1\n",
    "                else:\n",
    "                    wordCounts[m['sender_name']] = {word: 1}\n",
    "    return wordCounts"
   ]
  },
  {
   "cell_type": "code",
   "execution_count": null,
   "metadata": {},
   "outputs": [],
   "source": [
    "def mostUsedWords(messages):\n",
    "    wordCounts=getWordCounts(messages)\n",
    "    print(\"Legtöbbször használt szavak:\")\n",
    "    for s in wordCounts.keys():\n",
    "        print(s)\n",
    "        for w in sorted(wordCounts[s], key=wordCounts[s].get, reverse=True)[0:11]:\n",
    "            print(w, \":\", wordCounts[s][w])\n",
    "        print()\n",
    "        #print(sorted(wordCounts[s], key=wordCounts[s].get, reverse=True))\n",
    "\n",
    "    #sorted(wordCounts[s], key=wordCounts[s].get, reverse=True)\n",
    "    #wordCounts[s]"
   ]
  },
  {
   "cell_type": "code",
   "execution_count": null,
   "metadata": {},
   "outputs": [],
   "source": [
    "def time_elapsed(resp, messages):\n",
    "    last_sender=messages[0][\"sender_name\"]\n",
    "    last_time=messages[0][\"timestamp_ms\"]\n",
    "    response_times=[]\n",
    "\n",
    "    for m in messages:\n",
    "        if (last_sender!=resp and m[\"sender_name\"]==resp):\n",
    "            response_times.append((m[\"timestamp_ms\"]-last_time)/1000/60)\n",
    "        last_sender=m[\"sender_name\"]\n",
    "        last_time=m[\"timestamp_ms\"]\n",
    "    \n",
    "    return response_times"
   ]
  },
  {
   "cell_type": "code",
   "execution_count": null,
   "metadata": {},
   "outputs": [],
   "source": [
    "def histplot(respo, re):\n",
    "    counts,bins=histogram(respo, bins=30, range=(0,5))\n",
    "    portion=sum(counts)*100/len(respo)\n",
    "    print(\"%s válaszainak %.1f%%-a 5 percen belül érkezik\" % (re,portion))\n",
    "\n",
    "    counts2,bins2=histogram(respo, bins=30, range=(0,1))\n",
    "    portion2=sum(counts2)*100/len(respo)\n",
    "    print(\"%s válaszainak %.1f%%-a 1 percen belül érkezik\\n\" % (re,portion2))\n",
    "    \n",
    "    respo2=[x if x<=5 else 5.2 for x in respo]\n",
    "    hist(respo2, 100, range=(0,5.2), density=True, histtype='step',cumulative=True, label=\"%s válaszai\" % re)\n"
   ]
  },
  {
   "cell_type": "code",
   "execution_count": null,
   "metadata": {},
   "outputs": [],
   "source": [
    "def getParticipants (messages):\n",
    "    participants=[]\n",
    "    for m in messages:\n",
    "        if m[\"sender_name\"] in participants:\n",
    "            continue\n",
    "        participants.append(m[\"sender_name\"])\n",
    "    return participants"
   ]
  },
  {
   "cell_type": "code",
   "execution_count": null,
   "metadata": {},
   "outputs": [],
   "source": [
    "def responseTime(messages):\n",
    "    for responder in getParticipants(messages):\n",
    "        response_times=time_elapsed(responder, messages)\n",
    "        histplot(response_times, responder)\n",
    "\n",
    "\n",
    "    title(\"Az egymás üzeneteire adott válaszidők kumulatív eloszlásfüggvénye\")\n",
    "    xlabel(\"Válaszidő (perc)\")\n",
    "    ylabel(\"Megválaszolt üzenetek részaránya\")\n",
    "    xlim(0,5)\n",
    "    legend(loc=\"lower right\")\n",
    "    grid(True)\n",
    "    show()\n"
   ]
  },
  {
   "cell_type": "code",
   "execution_count": null,
   "metadata": {},
   "outputs": [],
   "source": [
    "def allInfo(name, szo=\"fasz\"):\n",
    "    mm=mes[name]\n",
    "    senderStats(mm)\n",
    "    WordNumber(mm,szo)\n",
    "    responseTime(mm)\n",
    "    messages_timeofday(mm)\n",
    "    messages_time(name)\n",
    "    "
   ]
  },
  {
   "cell_type": "code",
   "execution_count": null,
   "metadata": {},
   "outputs": [],
   "source": [
    "messages_time(sortedNames[0:10])\n"
   ]
  },
  {
   "cell_type": "code",
   "execution_count": null,
   "metadata": {},
   "outputs": [],
   "source": [
    "printFirsts(15)"
   ]
  },
  {
   "cell_type": "code",
   "execution_count": null,
   "metadata": {},
   "outputs": [],
   "source": [
    "sortedNames.index(\"balazsbonifert\")"
   ]
  },
  {
   "cell_type": "code",
   "execution_count": null,
   "metadata": {},
   "outputs": [],
   "source": [
    "allInfo(\"balazsbonifert\", szo=\"kur\")"
   ]
  },
  {
   "cell_type": "code",
   "execution_count": null,
   "metadata": {},
   "outputs": [],
   "source": [
    "mm=mes[\"balazsbonifert\"]\n",
    "WordNumber(mm,\"xd\")\n",
    "WordNumber(mm,\"xdd\")\n",
    "WordNumber(mm,\"xddd\")\n",
    "WordNumber(mm,\"xdddd\")\n",
    "WordNumber(mm,\"xddddd\")"
   ]
  },
  {
   "cell_type": "code",
   "execution_count": null,
   "metadata": {},
   "outputs": [],
   "source": []
  }
 ],
 "metadata": {
  "kernelspec": {
   "display_name": "base",
   "language": "python",
   "name": "python3"
  },
  "language_info": {
   "codemirror_mode": {
    "name": "ipython",
    "version": 3
   },
   "file_extension": ".py",
   "mimetype": "text/x-python",
   "name": "python",
   "nbconvert_exporter": "python",
   "pygments_lexer": "ipython3",
   "version": "3.10.11"
  },
  "orig_nbformat": 4,
  "vscode": {
   "interpreter": {
    "hash": "49cb93f377a7abe7414b7b0f21fb3017538004a126cf690fb524202736b7fb92"
   }
  }
 },
 "nbformat": 4,
 "nbformat_minor": 2
}
